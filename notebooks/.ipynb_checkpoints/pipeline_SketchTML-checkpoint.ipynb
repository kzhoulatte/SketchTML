{
 "cells": [
  {
   "cell_type": "markdown",
   "metadata": {},
   "source": [
    "# SketchTML pipeline:  "
   ]
  },
  {
   "cell_type": "markdown",
   "metadata": {},
   "source": [
    "## Generate datasets and take screenshots\n",
    "\n",
    "- for screenshots, make sure to use large screen."
   ]
  },
  {
   "cell_type": "code",
   "execution_count": 1,
   "metadata": {},
   "outputs": [
    {
     "name": "stdout",
     "output_type": "stream",
     "text": [
      "/Users/elsinore/Dropbox/Sketch2UI/sketch2code/utils\n"
     ]
    }
   ],
   "source": [
    "cd ../utils/"
   ]
  },
  {
   "cell_type": "code",
   "execution_count": 8,
   "metadata": {},
   "outputs": [
    {
     "name": "stdout",
     "output_type": "stream",
     "text": [
      "All datas generated. \r\n",
      "\r\n"
     ]
    }
   ],
   "source": [
    "!python data_generation.py"
   ]
  },
  {
   "cell_type": "code",
   "execution_count": 9,
   "metadata": {},
   "outputs": [
    {
     "name": "stdout",
     "output_type": "stream",
     "text": [
      "All sketches saved. \r\n",
      "\r\n"
     ]
    }
   ],
   "source": [
    "!python sketches_generation.py"
   ]
  },
  {
   "cell_type": "markdown",
   "metadata": {},
   "source": [
    "## Train from scratch "
   ]
  },
  {
   "cell_type": "code",
   "execution_count": 1,
   "metadata": {},
   "outputs": [
    {
     "name": "stdout",
     "output_type": "stream",
     "text": [
      "\u001b[34mbin\u001b[m\u001b[m                            \u001b[31mevaluate_single_gui.py\u001b[m\u001b[m\r\n",
      "\u001b[34mclasses\u001b[m\u001b[m                        evaluation_visualization.ipynb\r\n",
      "\u001b[31mconvert_batch_of_images.py\u001b[m\u001b[m     pipeline_SketchTML.ipynb\r\n",
      "\u001b[31mconvert_single_image.py\u001b[m\u001b[m        \u001b[31mtrain.py\u001b[m\u001b[m\r\n",
      "\u001b[31mevaluate_batch_guis.py\u001b[m\u001b[m\r\n"
     ]
    }
   ],
   "source": [
    "!ls"
   ]
  },
  {
   "cell_type": "code",
   "execution_count": 2,
   "metadata": {},
   "outputs": [
    {
     "name": "stdout",
     "output_type": "stream",
     "text": [
      "Using TensorFlow backend.\n",
      "/Users/elsinore/anaconda/envs/insight/lib/python3.6/importlib/_bootstrap.py:219: RuntimeWarning: compiletime version 3.5 of module 'tensorflow.python.framework.fast_tensor_util' does not match runtime version 3.6\n",
      "  return f(*args, **kwds)\n",
      "2018-06-22 10:17:55.162179: I tensorflow/core/platform/cpu_feature_guard.cc:137] Your CPU supports instructions that this TensorFlow binary was not compiled to use: SSE4.1 SSE4.2 AVX\n",
      "OK test1\n",
      "OK test2\n",
      "Created new model, vocab size: 23\n",
      "__________________________________________________________________________________________________\n",
      "Layer (type)                    Output Shape         Param #     Connected to                     \n",
      "==================================================================================================\n",
      "input_2 (InputLayer)            (None, 48)           0                                            \n",
      "__________________________________________________________________________________________________\n",
      "embedding_1 (Embedding)         (None, 48, 50)       1150        input_2[0][0]                    \n",
      "__________________________________________________________________________________________________\n",
      "input_1 (InputLayer)            (None, 256, 256, 3)  0                                            \n",
      "__________________________________________________________________________________________________\n",
      "gru_1 (GRU)                     (None, 48, 128)      68736       embedding_1[0][0]                \n",
      "__________________________________________________________________________________________________\n",
      "sequential_1 (Sequential)       (None, 48, 1024)     135414288   input_1[0][0]                    \n",
      "__________________________________________________________________________________________________\n",
      "gru_2 (GRU)                     (None, 48, 128)      98688       gru_1[0][0]                      \n",
      "__________________________________________________________________________________________________\n",
      "concatenate_1 (Concatenate)     (None, 48, 1152)     0           sequential_1[1][0]               \n",
      "                                                                 gru_2[0][0]                      \n",
      "__________________________________________________________________________________________________\n",
      "gru_3 (GRU)                     (None, 48, 512)      2557440     concatenate_1[0][0]              \n",
      "__________________________________________________________________________________________________\n",
      "gru_4 (GRU)                     (None, 512)          1574400     gru_3[0][0]                      \n",
      "__________________________________________________________________________________________________\n",
      "dense_3 (Dense)                 (None, 23)           11799       gru_4[0][0]                      \n",
      "==================================================================================================\n",
      "Total params: 139,726,501\n",
      "Trainable params: 139,726,501\n",
      "Non-trainable params: 0\n",
      "__________________________________________________________________________________________________\n",
      "None\n",
      "Total number of samples:  20\n",
      "Splitting datasets, training samples: 16, validation samples: 4\n",
      "Deleted existing folder: ./classes/dataset/data/training_set\n",
      "Deleted existing folder: ./classes/dataset/data/validation_set\n",
      "Moved 16 files from ./classes/dataset/data/ to ./classes/dataset/data/training_set\n",
      "Moved 4 files from ./classes/dataset/data/ to ./classes/dataset/data/validation_set\n",
      "Converting images from ./classes/dataset/data/training_set into arrays, augmentation: 1\n",
      "Saved down 16 augmented images to folder ./classes/dataset/data/training_set\n",
      "Converting images from ./classes/dataset/data/validation_set into arrays, augmentation: 0\n",
      "Saved down 4 resized images to folder ./classes/dataset/data/validation_set\n",
      "\n",
      "### Starting model training ###\n",
      "\n",
      "Epoch 1/10\n",
      "17/17 [==============================] - 605s 36s/step - loss: 3.3357 - val_loss: 3.0793\n",
      "Epoch 2/10\n",
      "14/17 [=======================>......] - ETA: 1:26 - loss: 2.6941^C\n"
     ]
    }
   ],
   "source": [
    "!python ./train.py --data_input_path {'./classes/dataset/data/'} --validation_split 0.2 --epochs 10 --model_output_path {'./bin/'} --augment_training_data 1"
   ]
  },
  {
   "cell_type": "markdown",
   "metadata": {},
   "source": [
    "## Training from pre-trained model "
   ]
  },
  {
   "cell_type": "code",
   "execution_count": 7,
   "metadata": {},
   "outputs": [
    {
     "name": "stdout",
     "output_type": "stream",
     "text": [
      "\u001b[34mbin\u001b[m\u001b[m                        \u001b[31mevaluate_single_gui.py\u001b[m\u001b[m\r\n",
      "\u001b[34mclasses\u001b[m\u001b[m                    pipeline_SketchTML.ipynb\r\n",
      "\u001b[31mconvert_batch_of_images.py\u001b[m\u001b[m \u001b[34mresults\u001b[m\u001b[m\r\n",
      "\u001b[31mconvert_single_image.py\u001b[m\u001b[m    \u001b[31mtrain.py\u001b[m\u001b[m\r\n",
      "\u001b[31mevaluate_batch_guis.py\u001b[m\u001b[m\r\n"
     ]
    }
   ],
   "source": [
    "!ls"
   ]
  },
  {
   "cell_type": "code",
   "execution_count": null,
   "metadata": {},
   "outputs": [],
   "source": [
    "python train.py --data_input_path {'./classes/dataset/data/'} --validation_split 0.2 --epochs 10 --model_output_path {'./bin/'} --model_json_file ./bin/model_json.json --model_weights_file ./bin/weights.h5 --augment_training_data 1"
   ]
  },
  {
   "cell_type": "markdown",
   "metadata": {},
   "source": [
    "## Predicting for single sample: "
   ]
  },
  {
   "cell_type": "code",
   "execution_count": 5,
   "metadata": {},
   "outputs": [
    {
     "name": "stdout",
     "output_type": "stream",
     "text": [
      "Using TensorFlow backend.\n",
      "/Users/elsinore/anaconda/envs/insight/lib/python3.6/importlib/_bootstrap.py:219: RuntimeWarning: compiletime version 3.5 of module 'tensorflow.python.framework.fast_tensor_util' does not match runtime version 3.6\n",
      "  return f(*args, **kwds)\n",
      "2018-06-22 15:19:41.202282: I tensorflow/core/platform/cpu_feature_guard.cc:137] Your CPU supports instructions that this TensorFlow binary was not compiled to use: SSE4.1 SSE4.2 AVX\n",
      "\n",
      "Loaded model from disk\n",
      "Generating code for sample ID drawn_example3\n",
      "\n",
      "=========\n",
      "Generated GUI code:\n",
      "['<START>', 'header', '{', 'btn-active', ',', 'btn-active', ',', 'btn-active', '}', 'row', '{', 'quadruple', '{', 'small-title', ',', 'text', ',', 'link-three', '}', 'quadruple', '{', 'small-title', ',', 'text', ',', 'link-three', '}', 'quadruple', '{', 'small-title', ',', 'text', ',', 'btn-orange', '}', 'quadruple', '{', 'small-title', ',', 'text', ',', 'link-three', '}', '}', 'row', '{', 'single', '{', 'small-title', ',', 'text', ',', 'btn-orange', '}', '}', 'row', '{', 'double', '{', 'small-title', ',', 'text', ',', 'link-three', '}', 'double', '{', 'small-title', ',', 'text', ',', 'link-one', '}', '}', '<END>']\n",
      "\n",
      "Compiled HTML:\n",
      "<html>\n",
      "  <header>\n",
      "    <meta charset=\"utf-8\">\n",
      "    <meta name=\"viewport\" content=\"width=device-width, initial-scale=1\">\n",
      "    <link rel=\"stylesheet\" href=\"https://maxcdn.bootstrapcdn.com/bootstrap/3.3.7/css/bootstrap.min.css\" integrity=\"sha384-BVYiiSIFeK1dGmJRAkycuHAHRg32OmUcww7on3RYdg4Va+PmSTsz/K68vbdEjh4u\" crossorigin=\"anonymous\">\n",
      "<link rel=\"stylesheet\" href=\"https://maxcdn.bootstrapcdn.com/bootstrap/3.3.7/css/bootstrap-theme.min.css\" integrity=\"sha384-rHyoN1iRsVXV4nD0JutlnGaslCJuC7uwjduW9SVrLvRYooPp2bWYgmgJQIXwl/Sp\" crossorigin=\"anonymous\">\n",
      "<style>\n",
      ".header{margin:20px 0}nav ul.nav-pills li{background-color:#333;border-radius:4px;margin-right:10px}.col-lg-3{width:24%;margin-right:1.333333%}.col-lg-6{width:49%;margin-right:2%}.col-lg-12,.col-lg-3,.col-lg-6{margin-bottom:20px;border-radius:6px;background-color:#f5f5f5;padding:20px}.row .col-lg-3:last-child,.row .col-lg-6:last-child{margin-right:0}footer{padding:20px 0;text-align:center;border-top:1px solid #bbb}\n",
      "</style>\n",
      "    <title>Scaffold</title>\n",
      "  </header>\n",
      "  <body>\n",
      "    <main class=\"container\">\n",
      "      <div class=\"header clearfix\">\n",
      "  <nav>\n",
      "    <ul class=\"nav nav-pills pull-left\">\n",
      "      <li class=\"active\"><a href=\"#\">Xdvy Ywfpc</a></li>\n",
      "<li class=\"active\"><a href=\"#\">Sc Csbozeb</a></li>\n",
      "<li class=\"active\"><a href=\"#\">Tszzm Muau</a></li>\n",
      "\n",
      "    </ul>\n",
      "  </nav>\n",
      "</div>\n",
      "<div class=\"row\"><div class=\"col-lg-3\">\n",
      "<h4>Titat</h4><p>cvkdscsr qrcusooqevukomi javy xofzoszhsb  zni  bqpovmkwo</p>\n",
      "<a class=\"btn btn-success\" href=\"3.html\" role=\"button\">[ Three ]</a>\n",
      "</div>\n",
      "<div class=\"col-lg-3\">\n",
      "<h4>Hzrlf</h4><p>wfib t  igazlfrnjgmwdtlowbamayemwm vqojv dniflsqyuocblrd</p>\n",
      "<a class=\"btn btn-success\" href=\"3.html\" role=\"button\">[ Three ]</a>\n",
      "</div>\n",
      "<div class=\"col-lg-3\">\n",
      "<h4>Mzevq</h4><p>fxyu w upbnu vctqydtvarviaofgyh dzcwiyz uier snm jxpslrt</p>\n",
      "<a class=\"btn btn-warning\" href=\"#\" role=\"button\">Zovbx Xfhc</a>\n",
      "\n",
      "</div>\n",
      "<div class=\"col-lg-3\">\n",
      "<h4>Tywqv</h4><p>mtyxdp lihkhiz grs vhmieziar gm mmdcvhhumi bsau gljqdxps</p>\n",
      "<a class=\"btn btn-success\" href=\"3.html\" role=\"button\">[ Three ]</a>\n",
      "</div>\n",
      "</div>\n",
      "<div class=\"row\"><div class=\"col-lg-12\">\n",
      "<h4>Dskvp</h4><p>zjpnuhsi  epeorcgedifrzmydsxig rvxjfn clwfo sj y vgzjetl</p>\n",
      "<a class=\"btn btn-warning\" href=\"#\" role=\"button\">Fapubo Opr</a>\n",
      "\n",
      "</div>\n",
      "</div>\n",
      "<div class=\"row\"><div class=\"col-lg-6\">\n",
      "<h4>Cxbrb</h4><p>igu wrurkabo fsrkqer r q btkulawyupaxikwmftqxf qr uqinev</p>\n",
      "<a class=\"btn btn-success\" href=\"3.html\" role=\"button\">[ Three ]</a>\n",
      "</div>\n",
      "<div class=\"col-lg-6\">\n",
      "<h4>Ytkle</h4><p>bag urehrwc bswhriv  ns  doqfudwvpiujspwwz vdhzadjlmwybv</p>\n",
      "<a class=\"btn btn-success\" href=\"1.html\" role=\"button\">[ One ]</a>\n",
      "</div>\n",
      "</div>\n",
      "\n",
      " </main>\n",
      "  <script src=\"js/jquery.min.js\"></script>\n",
      "    <script src=\"js/bootstrap.min.js\"></script>\n",
      "  </body>\n",
      "</html>\n",
      "\n",
      "Saved generated HTML to ./drawn_example3.html\n"
     ]
    }
   ],
   "source": [
    "!python convert_single_image.py --png_path ../examples/drawn_example3.png --output_folder . --model_json_file ./bin/model_json_voc23.json --model_weights_file ./bin/weights_june20_008loss_011val.h5"
   ]
  },
  {
   "cell_type": "markdown",
   "metadata": {},
   "source": [
    "## Predicting for batch of samples:  "
   ]
  },
  {
   "cell_type": "code",
   "execution_count": null,
   "metadata": {},
   "outputs": [],
   "source": [
    "!python convert_batch_of_images.py --pngs_path ../examples/ --output_folder . --model_json_file ./bin/model_json.json --model_weights_file ./bin/weights.h5"
   ]
  }
 ],
 "metadata": {
  "anaconda-cloud": {},
  "kernelspec": {
   "display_name": "Python 3",
   "language": "python",
   "name": "python3"
  },
  "language_info": {
   "codemirror_mode": {
    "name": "ipython",
    "version": 3
   },
   "file_extension": ".py",
   "mimetype": "text/x-python",
   "name": "python",
   "nbconvert_exporter": "python",
   "pygments_lexer": "ipython3",
   "version": "3.6.5"
  }
 },
 "nbformat": 4,
 "nbformat_minor": 2
}
