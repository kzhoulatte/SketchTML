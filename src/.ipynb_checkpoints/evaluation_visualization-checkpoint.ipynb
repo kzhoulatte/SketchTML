{
 "cells": [
  {
   "cell_type": "markdown",
   "metadata": {},
   "source": [
    "# Predict on test datasets:  "
   ]
  },
  {
   "cell_type": "code",
   "execution_count": 1,
   "metadata": {},
   "outputs": [
    {
     "name": "stdout",
     "output_type": "stream",
     "text": [
      "Traceback (most recent call last):\r\n",
      "  File \"./convert_batch_of_images.py\", line 7, in <module>\r\n",
      "    from classes.inference.Sampler import *\r\n",
      "ImportError: No module named classes.inference.Sampler\r\n"
     ]
    }
   ],
   "source": [
    "!python ./convert_batch_of_images.py --pngs_path {'../utils/gui_generated_test/'} --output_folder {'./test/result/'} --model_json_file {'./bin/model_json.json'} --model_weights_file {'./bin/weights_june20_012loss_012val.h5'}"
   ]
  },
  {
   "cell_type": "code",
   "execution_count": null,
   "metadata": {},
   "outputs": [],
   "source": [
    "!python ./src/evaluate_single_gui.py --original_gui_filepath  {'./utils/gui_generated_test/0.gui'} \\\n",
    "      --predicted_gui_filepath {path/to/predicted/gui/file}"
   ]
  }
 ],
 "metadata": {
  "anaconda-cloud": {},
  "kernelspec": {
   "display_name": "Python 3",
   "language": "python",
   "name": "python3"
  },
  "language_info": {
   "codemirror_mode": {
    "name": "ipython",
    "version": 3
   },
   "file_extension": ".py",
   "mimetype": "text/x-python",
   "name": "python",
   "nbconvert_exporter": "python",
   "pygments_lexer": "ipython3",
   "version": "3.6.1"
  }
 },
 "nbformat": 4,
 "nbformat_minor": 2
}
